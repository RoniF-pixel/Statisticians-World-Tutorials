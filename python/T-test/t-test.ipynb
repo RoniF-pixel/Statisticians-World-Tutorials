{
 "cells": [
  {
   "cell_type": "markdown",
   "metadata": {},
   "source": [
    "we are analyzing data on the literacy rate for each district, and we have already computed descriptive statistics to summarize our data. For the next part of our analysis, we want to find out if the data on district literacy rate fits a specific type of probability distribution. we will use the normal distribution to model our data. We will also compute z-scores to find any outliers in our data."
   ]
  },
  {
   "cell_type": "markdown",
   "metadata": {},
   "source": [
    "The Department of Education asks us to collect data on mean district literacy rates for two of the nation’s largest states: STATE21 and STATE28. STATE28 has almost 40 districts, and STATE21 has more than 70. Due to limited time and resources, we are only able to survey 20 randomly chosen districts in each state. The department asks us to determine if the difference between the two mean district literacy rates is statistically significant or due to chance. This will help the department decide how to distribute government funding to improve literacy. If there is a statistically-significant difference, the state with the lower literacy rate may receive more funding."
   ]
  },
  {
   "cell_type": "code",
   "execution_count": 2,
   "metadata": {},
   "outputs": [],
   "source": [
    "import numpy as np\n",
    "import pandas as pd\n",
    "import matplotlib.pyplot as plt\n",
    "from scipy import stats\n",
    "import statsmodels.api as sm"
   ]
  },
  {
   "cell_type": "code",
   "execution_count": 3,
   "metadata": {},
   "outputs": [],
   "source": [
    "education_districtwise = pd.read_csv('C:/Users/0&1/OneDrive/Documents/education_districtwise.csv')\n",
    "education_districtwise = education_districtwise.dropna()"
   ]
  },
  {
   "cell_type": "code",
   "execution_count": 4,
   "metadata": {},
   "outputs": [
    {
     "data": {
      "text/plain": [
       "<Axes: >"
      ]
     },
     "execution_count": 4,
     "metadata": {},
     "output_type": "execute_result"
    },
    {
     "data": {
      "image/png": "[encoded data removed]",
      "text/plain": [
       "<Figure size 640x480 with 1 Axes>"
      ]
     },
     "metadata": {},
     "output_type": "display_data"
    }
   ],
   "source": [
    "education_districtwise['OVERALL_LI'].hist()"
   ]
  },
  {
   "cell_type": "markdown",
   "metadata": {},
   "source": [
    "# Empirical rule"
   ]
  },
  {
   "cell_type": "markdown",
   "metadata": {},
   "source": [
    "we can expect that about:\n",
    "\n",
    "- 68% of district literacy rates will fall within +/- 1 SD from the mean.\n",
    "- 95% of district literacy rates will fall within +/- 2 SD from the mean.\n",
    "- 99.7% of district literacy rates will fall within +/- 3 SD from the mean."
   ]
  },
  {
   "cell_type": "code",
   "execution_count": 5,
   "metadata": {},
   "outputs": [
    {
     "data": {
      "text/plain": [
       "73.39518927444796"
      ]
     },
     "execution_count": 5,
     "metadata": {},
     "output_type": "execute_result"
    }
   ],
   "source": [
    "mean_overall_li = education_districtwise['OVERALL_LI'].mean()\n",
    "mean_overall_li"
   ]
  },
  {
   "cell_type": "code",
   "execution_count": 6,
   "metadata": {},
   "outputs": [
    {
     "data": {
      "text/plain": [
       "10.098460413782469"
      ]
     },
     "execution_count": 6,
     "metadata": {},
     "output_type": "execute_result"
    }
   ],
   "source": [
    "std_overall_li = education_districtwise['OVERALL_LI'].std()\n",
    "std_overall_li"
   ]
  },
  {
   "cell_type": "markdown",
   "metadata": {},
   "source": [
    "computing the actual percentage of district literacy rates that fall within +/- 1 SD from the mean."
   ]
  },
  {
   "cell_type": "code",
   "execution_count": 7,
   "metadata": {},
   "outputs": [
    {
     "data": {
      "text/plain": [
       "0.6640378548895899"
      ]
     },
     "execution_count": 7,
     "metadata": {},
     "output_type": "execute_result"
    }
   ],
   "source": [
    "lower_limit = mean_overall_li - 1 * std_overall_li\n",
    "upper_limit = mean_overall_li + 1 * std_overall_li\n",
    "((education_districtwise['OVERALL_LI'] >= lower_limit) & (education_districtwise['OVERALL_LI'] <= upper_limit)).mean()"
   ]
  },
  {
   "cell_type": "markdown",
   "metadata": {},
   "source": [
    "computing the actual percentage of district literacy rates that fall within +/- 2 SD from the mean."
   ]
  },
  {
   "cell_type": "code",
   "execution_count": 8,
   "metadata": {},
   "outputs": [
    {
     "data": {
      "text/plain": [
       "0.9542586750788643"
      ]
     },
     "execution_count": 8,
     "metadata": {},
     "output_type": "execute_result"
    }
   ],
   "source": [
    "lower_limit = mean_overall_li - 2 * std_overall_li\n",
    "upper_limit = mean_overall_li + 2 * std_overall_li\n",
    "((education_districtwise['OVERALL_LI'] >= lower_limit) & (education_districtwise['OVERALL_LI'] <= upper_limit)).mean()"
   ]
  },
  {
   "cell_type": "markdown",
   "metadata": {},
   "source": [
    "computing the actual percentage of district literacy rates that fall within +/- 3 SD from the mean."
   ]
  },
  {
   "cell_type": "code",
   "execution_count": 9,
   "metadata": {},
   "outputs": [
    {
     "data": {
      "text/plain": [
       "0.9968454258675079"
      ]
     },
     "execution_count": 9,
     "metadata": {},
     "output_type": "execute_result"
    }
   ],
   "source": [
    "lower_limit = mean_overall_li - 3 * std_overall_li\n",
    "upper_limit = mean_overall_li + 3 * std_overall_li\n",
    "((education_districtwise['OVERALL_LI'] >= lower_limit) & (education_districtwise['OVERALL_LI'] <= upper_limit)).mean()"
   ]
  },
  {
   "cell_type": "markdown",
   "metadata": {},
   "source": [
    "So our data is normally distributed."
   ]
  },
  {
   "cell_type": "markdown",
   "metadata": {},
   "source": [
    "# Compute z-scores to find outliers"
   ]
  },
  {
   "cell_type": "markdown",
   "metadata": {},
   "source": [
    "Observations with a z-score smaller than -3 or larger than +3 as outliers. In other words, these are values that lie more than +/- 3 SDs from the mean."
   ]
  },
  {
   "cell_type": "code",
   "execution_count": 10,
   "metadata": {},
   "outputs": [
    {
     "data": {
      "text/html": [
       "<div>\n",
       "<style scoped>\n",
       "    .dataframe tbody tr th:only-of-type {\n",
       "        vertical-align: middle;\n",
       "    }\n",
       "\n",
       "    .dataframe tbody tr th {\n",
       "        vertical-align: top;\n",
       "    }\n",
       "\n",
       "    .dataframe thead th {\n",
       "        text-align: right;\n",
       "    }\n",
       "</style>\n",
       "<table border=\"1\" class=\"dataframe\">\n",
       "  <thead>\n",
       "    <tr style=\"text-align: right;\">\n",
       "      <th></th>\n",
       "      <th>DISTNAME</th>\n",
       "      <th>STATNAME</th>\n",
       "      <th>BLOCKS</th>\n",
       "      <th>VILLAGES</th>\n",
       "      <th>CLUSTERS</th>\n",
       "      <th>TOTPOPULAT</th>\n",
       "      <th>OVERALL_LI</th>\n",
       "      <th>Z_SCORE</th>\n",
       "    </tr>\n",
       "  </thead>\n",
       "  <tbody>\n",
       "    <tr>\n",
       "      <th>0</th>\n",
       "      <td>DISTRICT32</td>\n",
       "      <td>STATE1</td>\n",
       "      <td>13</td>\n",
       "      <td>391</td>\n",
       "      <td>104</td>\n",
       "      <td>875564.0</td>\n",
       "      <td>66.92</td>\n",
       "      <td>-0.641712</td>\n",
       "    </tr>\n",
       "    <tr>\n",
       "      <th>1</th>\n",
       "      <td>DISTRICT649</td>\n",
       "      <td>STATE1</td>\n",
       "      <td>18</td>\n",
       "      <td>678</td>\n",
       "      <td>144</td>\n",
       "      <td>1015503.0</td>\n",
       "      <td>66.93</td>\n",
       "      <td>-0.640721</td>\n",
       "    </tr>\n",
       "    <tr>\n",
       "      <th>2</th>\n",
       "      <td>DISTRICT229</td>\n",
       "      <td>STATE1</td>\n",
       "      <td>8</td>\n",
       "      <td>94</td>\n",
       "      <td>65</td>\n",
       "      <td>1269751.0</td>\n",
       "      <td>71.21</td>\n",
       "      <td>-0.216559</td>\n",
       "    </tr>\n",
       "    <tr>\n",
       "      <th>3</th>\n",
       "      <td>DISTRICT259</td>\n",
       "      <td>STATE1</td>\n",
       "      <td>13</td>\n",
       "      <td>523</td>\n",
       "      <td>104</td>\n",
       "      <td>735753.0</td>\n",
       "      <td>57.98</td>\n",
       "      <td>-1.527694</td>\n",
       "    </tr>\n",
       "    <tr>\n",
       "      <th>4</th>\n",
       "      <td>DISTRICT486</td>\n",
       "      <td>STATE1</td>\n",
       "      <td>8</td>\n",
       "      <td>359</td>\n",
       "      <td>64</td>\n",
       "      <td>570060.0</td>\n",
       "      <td>65.00</td>\n",
       "      <td>-0.831990</td>\n",
       "    </tr>\n",
       "    <tr>\n",
       "      <th>...</th>\n",
       "      <td>...</td>\n",
       "      <td>...</td>\n",
       "      <td>...</td>\n",
       "      <td>...</td>\n",
       "      <td>...</td>\n",
       "      <td>...</td>\n",
       "      <td>...</td>\n",
       "      <td>...</td>\n",
       "    </tr>\n",
       "    <tr>\n",
       "      <th>675</th>\n",
       "      <td>DISTRICT522</td>\n",
       "      <td>STATE29</td>\n",
       "      <td>37</td>\n",
       "      <td>876</td>\n",
       "      <td>137</td>\n",
       "      <td>5296396.0</td>\n",
       "      <td>78.05</td>\n",
       "      <td>0.461307</td>\n",
       "    </tr>\n",
       "    <tr>\n",
       "      <th>676</th>\n",
       "      <td>DISTRICT498</td>\n",
       "      <td>STATE29</td>\n",
       "      <td>64</td>\n",
       "      <td>1458</td>\n",
       "      <td>230</td>\n",
       "      <td>4042191.0</td>\n",
       "      <td>56.06</td>\n",
       "      <td>-1.717972</td>\n",
       "    </tr>\n",
       "    <tr>\n",
       "      <th>677</th>\n",
       "      <td>DISTRICT343</td>\n",
       "      <td>STATE29</td>\n",
       "      <td>59</td>\n",
       "      <td>1117</td>\n",
       "      <td>216</td>\n",
       "      <td>3483648.0</td>\n",
       "      <td>65.05</td>\n",
       "      <td>-0.827035</td>\n",
       "    </tr>\n",
       "    <tr>\n",
       "      <th>678</th>\n",
       "      <td>DISTRICT130</td>\n",
       "      <td>STATE29</td>\n",
       "      <td>51</td>\n",
       "      <td>993</td>\n",
       "      <td>211</td>\n",
       "      <td>3522644.0</td>\n",
       "      <td>66.16</td>\n",
       "      <td>-0.717030</td>\n",
       "    </tr>\n",
       "    <tr>\n",
       "      <th>679</th>\n",
       "      <td>DISTRICT341</td>\n",
       "      <td>STATE29</td>\n",
       "      <td>41</td>\n",
       "      <td>783</td>\n",
       "      <td>185</td>\n",
       "      <td>2798214.0</td>\n",
       "      <td>65.46</td>\n",
       "      <td>-0.786403</td>\n",
       "    </tr>\n",
       "  </tbody>\n",
       "</table>\n",
       "<p>634 rows × 8 columns</p>\n",
       "</div>"
      ],
      "text/plain": [
       "        DISTNAME STATNAME  BLOCKS  VILLAGES  CLUSTERS  TOTPOPULAT  OVERALL_LI  \\\n",
       "0     DISTRICT32   STATE1      13       391       104    875564.0       66.92   \n",
       "1    DISTRICT649   STATE1      18       678       144   1015503.0       66.93   \n",
       "2    DISTRICT229   STATE1       8        94        65   1269751.0       71.21   \n",
       "3    DISTRICT259   STATE1      13       523       104    735753.0       57.98   \n",
       "4    DISTRICT486   STATE1       8       359        64    570060.0       65.00   \n",
       "..           ...      ...     ...       ...       ...         ...         ...   \n",
       "675  DISTRICT522  STATE29      37       876       137   5296396.0       78.05   \n",
       "676  DISTRICT498  STATE29      64      1458       230   4042191.0       56.06   \n",
       "677  DISTRICT343  STATE29      59      1117       216   3483648.0       65.05   \n",
       "678  DISTRICT130  STATE29      51       993       211   3522644.0       66.16   \n",
       "679  DISTRICT341  STATE29      41       783       185   2798214.0       65.46   \n",
       "\n",
       "      Z_SCORE  \n",
       "0   -0.641712  \n",
       "1   -0.640721  \n",
       "2   -0.216559  \n",
       "3   -1.527694  \n",
       "4   -0.831990  \n",
       "..        ...  \n",
       "675  0.461307  \n",
       "676 -1.717972  \n",
       "677 -0.827035  \n",
       "678 -0.717030  \n",
       "679 -0.786403  \n",
       "\n",
       "[634 rows x 8 columns]"
      ]
     },
     "execution_count": 10,
     "metadata": {},
     "output_type": "execute_result"
    }
   ],
   "source": [
    "education_districtwise['Z_SCORE'] = stats.zscore(education_districtwise['OVERALL_LI'])\n",
    "education_districtwise"
   ]
  },
  {
   "cell_type": "code",
   "execution_count": 11,
   "metadata": {},
   "outputs": [
    {
     "data": {
      "text/html": [
       "<div>\n",
       "<style scoped>\n",
       "    .dataframe tbody tr th:only-of-type {\n",
       "        vertical-align: middle;\n",
       "    }\n",
       "\n",
       "    .dataframe tbody tr th {\n",
       "        vertical-align: top;\n",
       "    }\n",
       "\n",
       "    .dataframe thead th {\n",
       "        text-align: right;\n",
       "    }\n",
       "</style>\n",
       "<table border=\"1\" class=\"dataframe\">\n",
       "  <thead>\n",
       "    <tr style=\"text-align: right;\">\n",
       "      <th></th>\n",
       "      <th>DISTNAME</th>\n",
       "      <th>STATNAME</th>\n",
       "      <th>BLOCKS</th>\n",
       "      <th>VILLAGES</th>\n",
       "      <th>CLUSTERS</th>\n",
       "      <th>TOTPOPULAT</th>\n",
       "      <th>OVERALL_LI</th>\n",
       "      <th>Z_SCORE</th>\n",
       "    </tr>\n",
       "  </thead>\n",
       "  <tbody>\n",
       "    <tr>\n",
       "      <th>434</th>\n",
       "      <td>DISTRICT461</td>\n",
       "      <td>STATE31</td>\n",
       "      <td>4</td>\n",
       "      <td>360</td>\n",
       "      <td>53</td>\n",
       "      <td>532791.0</td>\n",
       "      <td>42.67</td>\n",
       "      <td>-3.044964</td>\n",
       "    </tr>\n",
       "    <tr>\n",
       "      <th>494</th>\n",
       "      <td>DISTRICT429</td>\n",
       "      <td>STATE22</td>\n",
       "      <td>6</td>\n",
       "      <td>612</td>\n",
       "      <td>62</td>\n",
       "      <td>728677.0</td>\n",
       "      <td>37.22</td>\n",
       "      <td>-3.585076</td>\n",
       "    </tr>\n",
       "  </tbody>\n",
       "</table>\n",
       "</div>"
      ],
      "text/plain": [
       "        DISTNAME STATNAME  BLOCKS  VILLAGES  CLUSTERS  TOTPOPULAT  OVERALL_LI  \\\n",
       "434  DISTRICT461  STATE31       4       360        53    532791.0       42.67   \n",
       "494  DISTRICT429  STATE22       6       612        62    728677.0       37.22   \n",
       "\n",
       "      Z_SCORE  \n",
       "434 -3.044964  \n",
       "494 -3.585076  "
      ]
     },
     "execution_count": 11,
     "metadata": {},
     "output_type": "execute_result"
    }
   ],
   "source": [
    "education_districtwise[(education_districtwise['Z_SCORE'] > 3) | (education_districtwise['Z_SCORE'] < -3)]"
   ]
  },
  {
   "cell_type": "markdown",
   "metadata": {},
   "source": [
    "We can identify two outlying districts that have unusually low literacy rates: DISTRICT461 and DISTRICT429. The literacy rates in these two districts are more than 3 SDs below the overall mean literacy rate.\n",
    "\n",
    "The government may want to provide more funding and resources to these two districts in the hopes of significantly improving literacy."
   ]
  },
  {
   "cell_type": "markdown",
   "metadata": {},
   "source": [
    "# Sampling"
   ]
  },
  {
   "cell_type": "code",
   "execution_count": 12,
   "metadata": {},
   "outputs": [],
   "source": [
    "education_districtwise = pd.read_csv('C:/Users/0&1/OneDrive/Documents/education_districtwise.csv')\n",
    "education_districtwise = education_districtwise.dropna()"
   ]
  },
  {
   "cell_type": "code",
   "execution_count": 13,
   "metadata": {},
   "outputs": [
    {
     "data": {
      "text/html": [
       "<div>\n",
       "<style scoped>\n",
       "    .dataframe tbody tr th:only-of-type {\n",
       "        vertical-align: middle;\n",
       "    }\n",
       "\n",
       "    .dataframe tbody tr th {\n",
       "        vertical-align: top;\n",
       "    }\n",
       "\n",
       "    .dataframe thead th {\n",
       "        text-align: right;\n",
       "    }\n",
       "</style>\n",
       "<table border=\"1\" class=\"dataframe\">\n",
       "  <thead>\n",
       "    <tr style=\"text-align: right;\">\n",
       "      <th></th>\n",
       "      <th>DISTNAME</th>\n",
       "      <th>STATNAME</th>\n",
       "      <th>BLOCKS</th>\n",
       "      <th>VILLAGES</th>\n",
       "      <th>CLUSTERS</th>\n",
       "      <th>TOTPOPULAT</th>\n",
       "      <th>OVERALL_LI</th>\n",
       "    </tr>\n",
       "  </thead>\n",
       "  <tbody>\n",
       "    <tr>\n",
       "      <th>661</th>\n",
       "      <td>DISTRICT528</td>\n",
       "      <td>STATE6</td>\n",
       "      <td>9</td>\n",
       "      <td>112</td>\n",
       "      <td>89</td>\n",
       "      <td>1863174.0</td>\n",
       "      <td>92.14</td>\n",
       "    </tr>\n",
       "    <tr>\n",
       "      <th>216</th>\n",
       "      <td>DISTRICT291</td>\n",
       "      <td>STATE28</td>\n",
       "      <td>14</td>\n",
       "      <td>1188</td>\n",
       "      <td>165</td>\n",
       "      <td>3273127.0</td>\n",
       "      <td>52.49</td>\n",
       "    </tr>\n",
       "    <tr>\n",
       "      <th>367</th>\n",
       "      <td>DISTRICT66</td>\n",
       "      <td>STATE23</td>\n",
       "      <td>12</td>\n",
       "      <td>1169</td>\n",
       "      <td>116</td>\n",
       "      <td>1042304.0</td>\n",
       "      <td>62.14</td>\n",
       "    </tr>\n",
       "    <tr>\n",
       "      <th>254</th>\n",
       "      <td>DISTRICT458</td>\n",
       "      <td>STATE3</td>\n",
       "      <td>3</td>\n",
       "      <td>157</td>\n",
       "      <td>19</td>\n",
       "      <td>82839.0</td>\n",
       "      <td>76.33</td>\n",
       "    </tr>\n",
       "    <tr>\n",
       "      <th>286</th>\n",
       "      <td>DISTRICT636</td>\n",
       "      <td>STATE35</td>\n",
       "      <td>3</td>\n",
       "      <td>187</td>\n",
       "      <td>44</td>\n",
       "      <td>514683.0</td>\n",
       "      <td>86.70</td>\n",
       "    </tr>\n",
       "    <tr>\n",
       "      <th>369</th>\n",
       "      <td>DISTRICT512</td>\n",
       "      <td>STATE23</td>\n",
       "      <td>6</td>\n",
       "      <td>589</td>\n",
       "      <td>30</td>\n",
       "      <td>717169.0</td>\n",
       "      <td>68.35</td>\n",
       "    </tr>\n",
       "    <tr>\n",
       "      <th>258</th>\n",
       "      <td>DISTRICT156</td>\n",
       "      <td>STATE3</td>\n",
       "      <td>6</td>\n",
       "      <td>80</td>\n",
       "      <td>9</td>\n",
       "      <td>35289.0</td>\n",
       "      <td>59.94</td>\n",
       "    </tr>\n",
       "    <tr>\n",
       "      <th>10</th>\n",
       "      <td>DISTRICT412</td>\n",
       "      <td>STATE1</td>\n",
       "      <td>11</td>\n",
       "      <td>187</td>\n",
       "      <td>95</td>\n",
       "      <td>476820.0</td>\n",
       "      <td>68.69</td>\n",
       "    </tr>\n",
       "    <tr>\n",
       "      <th>512</th>\n",
       "      <td>DISTRICT277</td>\n",
       "      <td>STATE9</td>\n",
       "      <td>10</td>\n",
       "      <td>558</td>\n",
       "      <td>179</td>\n",
       "      <td>2298934.0</td>\n",
       "      <td>84.31</td>\n",
       "    </tr>\n",
       "    <tr>\n",
       "      <th>144</th>\n",
       "      <td>DISTRICT133</td>\n",
       "      <td>STATE21</td>\n",
       "      <td>14</td>\n",
       "      <td>1672</td>\n",
       "      <td>136</td>\n",
       "      <td>3673849.0</td>\n",
       "      <td>69.61</td>\n",
       "    </tr>\n",
       "    <tr>\n",
       "      <th>325</th>\n",
       "      <td>DISTRICT1</td>\n",
       "      <td>STATE33</td>\n",
       "      <td>4</td>\n",
       "      <td>534</td>\n",
       "      <td>98</td>\n",
       "      <td>957853.0</td>\n",
       "      <td>69.37</td>\n",
       "    </tr>\n",
       "    <tr>\n",
       "      <th>227</th>\n",
       "      <td>DISTRICT159</td>\n",
       "      <td>STATE28</td>\n",
       "      <td>18</td>\n",
       "      <td>870</td>\n",
       "      <td>134</td>\n",
       "      <td>2954367.0</td>\n",
       "      <td>66.23</td>\n",
       "    </tr>\n",
       "    <tr>\n",
       "      <th>86</th>\n",
       "      <td>DISTRICT667</td>\n",
       "      <td>STATE25</td>\n",
       "      <td>5</td>\n",
       "      <td>396</td>\n",
       "      <td>75</td>\n",
       "      <td>896129.0</td>\n",
       "      <td>82.23</td>\n",
       "    </tr>\n",
       "    <tr>\n",
       "      <th>425</th>\n",
       "      <td>DISTRICT144</td>\n",
       "      <td>STATE31</td>\n",
       "      <td>7</td>\n",
       "      <td>1064</td>\n",
       "      <td>108</td>\n",
       "      <td>2662077.0</td>\n",
       "      <td>71.59</td>\n",
       "    </tr>\n",
       "    <tr>\n",
       "      <th>260</th>\n",
       "      <td>DISTRICT305</td>\n",
       "      <td>STATE3</td>\n",
       "      <td>2</td>\n",
       "      <td>62</td>\n",
       "      <td>6</td>\n",
       "      <td>145538.0</td>\n",
       "      <td>69.88</td>\n",
       "    </tr>\n",
       "    <tr>\n",
       "      <th>281</th>\n",
       "      <td>DISTRICT385</td>\n",
       "      <td>STATE35</td>\n",
       "      <td>6</td>\n",
       "      <td>531</td>\n",
       "      <td>30</td>\n",
       "      <td>354972.0</td>\n",
       "      <td>75.00</td>\n",
       "    </tr>\n",
       "    <tr>\n",
       "      <th>262</th>\n",
       "      <td>DISTRICT552</td>\n",
       "      <td>STATE3</td>\n",
       "      <td>3</td>\n",
       "      <td>103</td>\n",
       "      <td>4</td>\n",
       "      <td>111997.0</td>\n",
       "      <td>52.23</td>\n",
       "    </tr>\n",
       "    <tr>\n",
       "      <th>253</th>\n",
       "      <td>DISTRICT168</td>\n",
       "      <td>STATE3</td>\n",
       "      <td>5</td>\n",
       "      <td>312</td>\n",
       "      <td>16</td>\n",
       "      <td>176385.0</td>\n",
       "      <td>82.14</td>\n",
       "    </tr>\n",
       "    <tr>\n",
       "      <th>301</th>\n",
       "      <td>DISTRICT551</td>\n",
       "      <td>STATE14</td>\n",
       "      <td>9</td>\n",
       "      <td>103</td>\n",
       "      <td>63</td>\n",
       "      <td>693281.0</td>\n",
       "      <td>88.29</td>\n",
       "    </tr>\n",
       "    <tr>\n",
       "      <th>356</th>\n",
       "      <td>DISTRICT494</td>\n",
       "      <td>STATE34</td>\n",
       "      <td>25</td>\n",
       "      <td>2179</td>\n",
       "      <td>223</td>\n",
       "      <td>3596292.0</td>\n",
       "      <td>70.95</td>\n",
       "    </tr>\n",
       "    <tr>\n",
       "      <th>165</th>\n",
       "      <td>DISTRICT196</td>\n",
       "      <td>STATE21</td>\n",
       "      <td>10</td>\n",
       "      <td>1354</td>\n",
       "      <td>119</td>\n",
       "      <td>1795092.0</td>\n",
       "      <td>77.52</td>\n",
       "    </tr>\n",
       "    <tr>\n",
       "      <th>565</th>\n",
       "      <td>DISTRICT308</td>\n",
       "      <td>STATE17</td>\n",
       "      <td>8</td>\n",
       "      <td>721</td>\n",
       "      <td>144</td>\n",
       "      <td>848868.0</td>\n",
       "      <td>86.54</td>\n",
       "    </tr>\n",
       "    <tr>\n",
       "      <th>388</th>\n",
       "      <td>DISTRICT281</td>\n",
       "      <td>STATE23</td>\n",
       "      <td>6</td>\n",
       "      <td>392</td>\n",
       "      <td>58</td>\n",
       "      <td>949159.0</td>\n",
       "      <td>73.92</td>\n",
       "    </tr>\n",
       "    <tr>\n",
       "      <th>461</th>\n",
       "      <td>DISTRICT619</td>\n",
       "      <td>STATE22</td>\n",
       "      <td>5</td>\n",
       "      <td>859</td>\n",
       "      <td>57</td>\n",
       "      <td>1064989.0</td>\n",
       "      <td>68.36</td>\n",
       "    </tr>\n",
       "    <tr>\n",
       "      <th>384</th>\n",
       "      <td>DISTRICT455</td>\n",
       "      <td>STATE23</td>\n",
       "      <td>9</td>\n",
       "      <td>1217</td>\n",
       "      <td>55</td>\n",
       "      <td>1063458.0</td>\n",
       "      <td>68.85</td>\n",
       "    </tr>\n",
       "    <tr>\n",
       "      <th>590</th>\n",
       "      <td>DISTRICT70</td>\n",
       "      <td>STATE20</td>\n",
       "      <td>7</td>\n",
       "      <td>427</td>\n",
       "      <td>84</td>\n",
       "      <td>1846993.0</td>\n",
       "      <td>80.30</td>\n",
       "    </tr>\n",
       "    <tr>\n",
       "      <th>343</th>\n",
       "      <td>DISTRICT354</td>\n",
       "      <td>STATE33</td>\n",
       "      <td>2</td>\n",
       "      <td>192</td>\n",
       "      <td>46</td>\n",
       "      <td>1260419.0</td>\n",
       "      <td>88.66</td>\n",
       "    </tr>\n",
       "    <tr>\n",
       "      <th>539</th>\n",
       "      <td>DISTRICT440</td>\n",
       "      <td>STATE17</td>\n",
       "      <td>15</td>\n",
       "      <td>1465</td>\n",
       "      <td>167</td>\n",
       "      <td>2887826.0</td>\n",
       "      <td>88.23</td>\n",
       "    </tr>\n",
       "    <tr>\n",
       "      <th>459</th>\n",
       "      <td>DISTRICT431</td>\n",
       "      <td>STATE22</td>\n",
       "      <td>9</td>\n",
       "      <td>1778</td>\n",
       "      <td>143</td>\n",
       "      <td>2363744.0</td>\n",
       "      <td>73.42</td>\n",
       "    </tr>\n",
       "    <tr>\n",
       "      <th>667</th>\n",
       "      <td>DISTRICT123</td>\n",
       "      <td>STATE11</td>\n",
       "      <td>3</td>\n",
       "      <td>80</td>\n",
       "      <td>16</td>\n",
       "      <td>237586.0</td>\n",
       "      <td>88.49</td>\n",
       "    </tr>\n",
       "    <tr>\n",
       "      <th>387</th>\n",
       "      <td>DISTRICT231</td>\n",
       "      <td>STATE23</td>\n",
       "      <td>6</td>\n",
       "      <td>657</td>\n",
       "      <td>63</td>\n",
       "      <td>530299.0</td>\n",
       "      <td>64.51</td>\n",
       "    </tr>\n",
       "    <tr>\n",
       "      <th>306</th>\n",
       "      <td>DISTRICT37</td>\n",
       "      <td>STATE4</td>\n",
       "      <td>7</td>\n",
       "      <td>1083</td>\n",
       "      <td>92</td>\n",
       "      <td>642923.0</td>\n",
       "      <td>68.38</td>\n",
       "    </tr>\n",
       "    <tr>\n",
       "      <th>213</th>\n",
       "      <td>DISTRICT347</td>\n",
       "      <td>STATE28</td>\n",
       "      <td>11</td>\n",
       "      <td>623</td>\n",
       "      <td>94</td>\n",
       "      <td>2228397.0</td>\n",
       "      <td>59.65</td>\n",
       "    </tr>\n",
       "    <tr>\n",
       "      <th>97</th>\n",
       "      <td>DISTRICT22</td>\n",
       "      <td>STATE2</td>\n",
       "      <td>7</td>\n",
       "      <td>182</td>\n",
       "      <td>7</td>\n",
       "      <td>2531583.0</td>\n",
       "      <td>87.12</td>\n",
       "    </tr>\n",
       "    <tr>\n",
       "      <th>78</th>\n",
       "      <td>DISTRICT247</td>\n",
       "      <td>STATE25</td>\n",
       "      <td>7</td>\n",
       "      <td>314</td>\n",
       "      <td>60</td>\n",
       "      <td>1332042.0</td>\n",
       "      <td>72.73</td>\n",
       "    </tr>\n",
       "    <tr>\n",
       "      <th>394</th>\n",
       "      <td>DISTRICT640</td>\n",
       "      <td>STATE24</td>\n",
       "      <td>17</td>\n",
       "      <td>1857</td>\n",
       "      <td>191</td>\n",
       "      <td>1802777.0</td>\n",
       "      <td>69.00</td>\n",
       "    </tr>\n",
       "    <tr>\n",
       "      <th>184</th>\n",
       "      <td>DISTRICT596</td>\n",
       "      <td>STATE21</td>\n",
       "      <td>11</td>\n",
       "      <td>1281</td>\n",
       "      <td>108</td>\n",
       "      <td>2149066.0</td>\n",
       "      <td>51.76</td>\n",
       "    </tr>\n",
       "    <tr>\n",
       "      <th>147</th>\n",
       "      <td>DISTRICT335</td>\n",
       "      <td>STATE21</td>\n",
       "      <td>17</td>\n",
       "      <td>1945</td>\n",
       "      <td>138</td>\n",
       "      <td>4380793.0</td>\n",
       "      <td>69.44</td>\n",
       "    </tr>\n",
       "    <tr>\n",
       "      <th>542</th>\n",
       "      <td>DISTRICT489</td>\n",
       "      <td>STATE17</td>\n",
       "      <td>7</td>\n",
       "      <td>749</td>\n",
       "      <td>63</td>\n",
       "      <td>1198810.0</td>\n",
       "      <td>85.14</td>\n",
       "    </tr>\n",
       "    <tr>\n",
       "      <th>105</th>\n",
       "      <td>DISTRICT157</td>\n",
       "      <td>STATE13</td>\n",
       "      <td>14</td>\n",
       "      <td>1994</td>\n",
       "      <td>508</td>\n",
       "      <td>3671999.0</td>\n",
       "      <td>71.68</td>\n",
       "    </tr>\n",
       "    <tr>\n",
       "      <th>254</th>\n",
       "      <td>DISTRICT458</td>\n",
       "      <td>STATE3</td>\n",
       "      <td>3</td>\n",
       "      <td>157</td>\n",
       "      <td>19</td>\n",
       "      <td>82839.0</td>\n",
       "      <td>76.33</td>\n",
       "    </tr>\n",
       "    <tr>\n",
       "      <th>109</th>\n",
       "      <td>DISTRICT158</td>\n",
       "      <td>STATE13</td>\n",
       "      <td>6</td>\n",
       "      <td>769</td>\n",
       "      <td>211</td>\n",
       "      <td>1338114.0</td>\n",
       "      <td>66.19</td>\n",
       "    </tr>\n",
       "    <tr>\n",
       "      <th>609</th>\n",
       "      <td>DISTRICT17</td>\n",
       "      <td>STATE20</td>\n",
       "      <td>4</td>\n",
       "      <td>359</td>\n",
       "      <td>59</td>\n",
       "      <td>9588910.0</td>\n",
       "      <td>88.48</td>\n",
       "    </tr>\n",
       "    <tr>\n",
       "      <th>53</th>\n",
       "      <td>DISTRICT126</td>\n",
       "      <td>STATE26</td>\n",
       "      <td>3</td>\n",
       "      <td>197</td>\n",
       "      <td>21</td>\n",
       "      <td>596294.0</td>\n",
       "      <td>68.90</td>\n",
       "    </tr>\n",
       "    <tr>\n",
       "      <th>81</th>\n",
       "      <td>DISTRICT45</td>\n",
       "      <td>STATE25</td>\n",
       "      <td>9</td>\n",
       "      <td>351</td>\n",
       "      <td>130</td>\n",
       "      <td>1742815.0</td>\n",
       "      <td>73.24</td>\n",
       "    </tr>\n",
       "    <tr>\n",
       "      <th>516</th>\n",
       "      <td>DISTRICT300</td>\n",
       "      <td>STATE9</td>\n",
       "      <td>5</td>\n",
       "      <td>651</td>\n",
       "      <td>84</td>\n",
       "      <td>590379.0</td>\n",
       "      <td>73.29</td>\n",
       "    </tr>\n",
       "    <tr>\n",
       "      <th>641</th>\n",
       "      <td>DISTRICT484</td>\n",
       "      <td>STATE6</td>\n",
       "      <td>15</td>\n",
       "      <td>333</td>\n",
       "      <td>83</td>\n",
       "      <td>1721179.0</td>\n",
       "      <td>74.92</td>\n",
       "    </tr>\n",
       "    <tr>\n",
       "      <th>650</th>\n",
       "      <td>DISTRICT145</td>\n",
       "      <td>STATE6</td>\n",
       "      <td>11</td>\n",
       "      <td>489</td>\n",
       "      <td>100</td>\n",
       "      <td>1614069.0</td>\n",
       "      <td>84.09</td>\n",
       "    </tr>\n",
       "    <tr>\n",
       "      <th>70</th>\n",
       "      <td>DISTRICT99</td>\n",
       "      <td>STATE25</td>\n",
       "      <td>4</td>\n",
       "      <td>279</td>\n",
       "      <td>43</td>\n",
       "      <td>558890.0</td>\n",
       "      <td>83.44</td>\n",
       "    </tr>\n",
       "    <tr>\n",
       "      <th>163</th>\n",
       "      <td>DISTRICT366</td>\n",
       "      <td>STATE21</td>\n",
       "      <td>9</td>\n",
       "      <td>1330</td>\n",
       "      <td>86</td>\n",
       "      <td>1579160.0</td>\n",
       "      <td>79.99</td>\n",
       "    </tr>\n",
       "  </tbody>\n",
       "</table>\n",
       "</div>"
      ],
      "text/plain": [
       "        DISTNAME STATNAME  BLOCKS  VILLAGES  CLUSTERS  TOTPOPULAT  OVERALL_LI\n",
       "661  DISTRICT528   STATE6       9       112        89   1863174.0       92.14\n",
       "216  DISTRICT291  STATE28      14      1188       165   3273127.0       52.49\n",
       "367   DISTRICT66  STATE23      12      1169       116   1042304.0       62.14\n",
       "254  DISTRICT458   STATE3       3       157        19     82839.0       76.33\n",
       "286  DISTRICT636  STATE35       3       187        44    514683.0       86.70\n",
       "369  DISTRICT512  STATE23       6       589        30    717169.0       68.35\n",
       "258  DISTRICT156   STATE3       6        80         9     35289.0       59.94\n",
       "10   DISTRICT412   STATE1      11       187        95    476820.0       68.69\n",
       "512  DISTRICT277   STATE9      10       558       179   2298934.0       84.31\n",
       "144  DISTRICT133  STATE21      14      1672       136   3673849.0       69.61\n",
       "325    DISTRICT1  STATE33       4       534        98    957853.0       69.37\n",
       "227  DISTRICT159  STATE28      18       870       134   2954367.0       66.23\n",
       "86   DISTRICT667  STATE25       5       396        75    896129.0       82.23\n",
       "425  DISTRICT144  STATE31       7      1064       108   2662077.0       71.59\n",
       "260  DISTRICT305   STATE3       2        62         6    145538.0       69.88\n",
       "281  DISTRICT385  STATE35       6       531        30    354972.0       75.00\n",
       "262  DISTRICT552   STATE3       3       103         4    111997.0       52.23\n",
       "253  DISTRICT168   STATE3       5       312        16    176385.0       82.14\n",
       "301  DISTRICT551  STATE14       9       103        63    693281.0       88.29\n",
       "356  DISTRICT494  STATE34      25      2179       223   3596292.0       70.95\n",
       "165  DISTRICT196  STATE21      10      1354       119   1795092.0       77.52\n",
       "565  DISTRICT308  STATE17       8       721       144    848868.0       86.54\n",
       "388  DISTRICT281  STATE23       6       392        58    949159.0       73.92\n",
       "461  DISTRICT619  STATE22       5       859        57   1064989.0       68.36\n",
       "384  DISTRICT455  STATE23       9      1217        55   1063458.0       68.85\n",
       "590   DISTRICT70  STATE20       7       427        84   1846993.0       80.30\n",
       "343  DISTRICT354  STATE33       2       192        46   1260419.0       88.66\n",
       "539  DISTRICT440  STATE17      15      1465       167   2887826.0       88.23\n",
       "459  DISTRICT431  STATE22       9      1778       143   2363744.0       73.42\n",
       "667  DISTRICT123  STATE11       3        80        16    237586.0       88.49\n",
       "387  DISTRICT231  STATE23       6       657        63    530299.0       64.51\n",
       "306   DISTRICT37   STATE4       7      1083        92    642923.0       68.38\n",
       "213  DISTRICT347  STATE28      11       623        94   2228397.0       59.65\n",
       "97    DISTRICT22   STATE2       7       182         7   2531583.0       87.12\n",
       "78   DISTRICT247  STATE25       7       314        60   1332042.0       72.73\n",
       "394  DISTRICT640  STATE24      17      1857       191   1802777.0       69.00\n",
       "184  DISTRICT596  STATE21      11      1281       108   2149066.0       51.76\n",
       "147  DISTRICT335  STATE21      17      1945       138   4380793.0       69.44\n",
       "542  DISTRICT489  STATE17       7       749        63   1198810.0       85.14\n",
       "105  DISTRICT157  STATE13      14      1994       508   3671999.0       71.68\n",
       "254  DISTRICT458   STATE3       3       157        19     82839.0       76.33\n",
       "109  DISTRICT158  STATE13       6       769       211   1338114.0       66.19\n",
       "609   DISTRICT17  STATE20       4       359        59   9588910.0       88.48\n",
       "53   DISTRICT126  STATE26       3       197        21    596294.0       68.90\n",
       "81    DISTRICT45  STATE25       9       351       130   1742815.0       73.24\n",
       "516  DISTRICT300   STATE9       5       651        84    590379.0       73.29\n",
       "641  DISTRICT484   STATE6      15       333        83   1721179.0       74.92\n",
       "650  DISTRICT145   STATE6      11       489       100   1614069.0       84.09\n",
       "70    DISTRICT99  STATE25       4       279        43    558890.0       83.44\n",
       "163  DISTRICT366  STATE21       9      1330        86   1579160.0       79.99"
      ]
     },
     "execution_count": 13,
     "metadata": {},
     "output_type": "execute_result"
    }
   ],
   "source": [
    "sampled_data = education_districtwise.sample(n=50, replace=True, random_state=31208)\n",
    "sampled_data"
   ]
  },
  {
   "cell_type": "markdown",
   "metadata": {},
   "source": [
    "# Compute the mean of a sampling distribution with 10000 samples:"
   ]
  },
  {
   "cell_type": "code",
   "execution_count": 14,
   "metadata": {},
   "outputs": [],
   "source": [
    "estimate_list = []\n",
    "for i in range(10000):\n",
    "    estimate_list.append(education_districtwise['OVERALL_LI'].sample(n=50, replace=True).mean())\n",
    "estimate_df = pd.DataFrame(data={'estimate': estimate_list})"
   ]
  },
  {
   "cell_type": "code",
   "execution_count": 15,
   "metadata": {},
   "outputs": [
    {
     "data": {
      "text/plain": [
       "73.4123517"
      ]
     },
     "execution_count": 15,
     "metadata": {},
     "output_type": "execute_result"
    }
   ],
   "source": [
    "mean_sample_means = estimate_df['estimate'].mean()\n",
    "mean_sample_means"
   ]
  },
  {
   "cell_type": "code",
   "execution_count": 16,
   "metadata": {},
   "outputs": [
    {
     "data": {
      "text/plain": [
       "73.39518927444796"
      ]
     },
     "execution_count": 16,
     "metadata": {},
     "output_type": "execute_result"
    }
   ],
   "source": [
    "population_mean = education_districtwise['OVERALL_LI'].mean()\n",
    "population_mean"
   ]
  },
  {
   "cell_type": "code",
   "execution_count": 18,
   "metadata": {},
   "outputs": [
    {
     "ename": "NameError",
     "evalue": "name 'estimate1' is not defined",
     "output_type": "error",
     "traceback": [
      "\u001b[1;31m---------------------------------------------------------------------------\u001b[0m",
      "\u001b[1;31mNameError\u001b[0m                                 Traceback (most recent call last)",
      "Cell \u001b[1;32mIn[18], line 7\u001b[0m\n\u001b[0;32m      5\u001b[0m plt\u001b[38;5;241m.\u001b[39mplot(x, p,\u001b[38;5;124m'\u001b[39m\u001b[38;5;124mk\u001b[39m\u001b[38;5;124m'\u001b[39m, linewidth\u001b[38;5;241m=\u001b[39m\u001b[38;5;241m2\u001b[39m, label \u001b[38;5;241m=\u001b[39m \u001b[38;5;124m'\u001b[39m\u001b[38;5;124mnormal curve from central limit theorem\u001b[39m\u001b[38;5;124m'\u001b[39m)\n\u001b[0;32m      6\u001b[0m plt\u001b[38;5;241m.\u001b[39maxvline(x\u001b[38;5;241m=\u001b[39mpopulation_mean, color\u001b[38;5;241m=\u001b[39m\u001b[38;5;124m'\u001b[39m\u001b[38;5;124mg\u001b[39m\u001b[38;5;124m'\u001b[39m, linestyle \u001b[38;5;241m=\u001b[39m \u001b[38;5;124m'\u001b[39m\u001b[38;5;124msolid\u001b[39m\u001b[38;5;124m'\u001b[39m, label \u001b[38;5;241m=\u001b[39m \u001b[38;5;124m'\u001b[39m\u001b[38;5;124mpopulation mean\u001b[39m\u001b[38;5;124m'\u001b[39m)\n\u001b[1;32m----> 7\u001b[0m plt\u001b[38;5;241m.\u001b[39maxvline(x\u001b[38;5;241m=\u001b[39mestimate1, color\u001b[38;5;241m=\u001b[39m\u001b[38;5;124m'\u001b[39m\u001b[38;5;124mr\u001b[39m\u001b[38;5;124m'\u001b[39m, linestyle \u001b[38;5;241m=\u001b[39m \u001b[38;5;124m'\u001b[39m\u001b[38;5;124m--\u001b[39m\u001b[38;5;124m'\u001b[39m, label \u001b[38;5;241m=\u001b[39m \u001b[38;5;124m'\u001b[39m\u001b[38;5;124msample mean of the first random sample\u001b[39m\u001b[38;5;124m'\u001b[39m)\n\u001b[0;32m      8\u001b[0m plt\u001b[38;5;241m.\u001b[39maxvline(x\u001b[38;5;241m=\u001b[39mmean_sample_means, color\u001b[38;5;241m=\u001b[39m\u001b[38;5;124m'\u001b[39m\u001b[38;5;124mb\u001b[39m\u001b[38;5;124m'\u001b[39m, linestyle \u001b[38;5;241m=\u001b[39m \u001b[38;5;124m'\u001b[39m\u001b[38;5;124m:\u001b[39m\u001b[38;5;124m'\u001b[39m, label \u001b[38;5;241m=\u001b[39m \u001b[38;5;124m'\u001b[39m\u001b[38;5;124mmean of sample means of 10000 random samples\u001b[39m\u001b[38;5;124m'\u001b[39m)\n\u001b[0;32m      9\u001b[0m plt\u001b[38;5;241m.\u001b[39mtitle(\u001b[38;5;124m\"\u001b[39m\u001b[38;5;124mSampling distribution of sample mean\u001b[39m\u001b[38;5;124m\"\u001b[39m)\n",
      "\u001b[1;31mNameError\u001b[0m: name 'estimate1' is not defined"
     ]
    },
    {
     "data": {
      "image/png": "[encoded data removed]",
      "text/plain": [
       "<Figure size 640x480 with 1 Axes>"
      ]
     },
     "metadata": {},
     "output_type": "display_data"
    }
   ],
   "source": [
    "plt.hist(estimate_df['estimate'], bins=25, density=True, alpha=0.4, label = \"histogram of sample means of 10000 random samples\")\n",
    "xmin, xmax = plt.xlim()\n",
    "x = np.linspace(xmin, xmax, 100) # generate a grid of 100 values from xmin to xmax.\n",
    "p = stats.norm.pdf(x, mean_sample_means, stats.tstd(estimate_df['estimate']))\n",
    "plt.plot(x, p,'k', linewidth=2, label = 'normal curve from central limit theorem')\n",
    "plt.axvline(x=population_mean, color='g', linestyle = 'solid', label = 'population mean')\n",
    "plt.axvline(x=estimate1, color='r', linestyle = '--', label = 'sample mean of the first random sample')\n",
    "plt.axvline(x=mean_sample_means, color='b', linestyle = ':', label = 'mean of sample means of 10000 random samples')\n",
    "plt.title(\"Sampling distribution of sample mean\")\n",
    "plt.xlabel('sample mean')\n",
    "plt.ylabel('density')\n",
    "plt.legend(bbox_to_anchor=(1.04,1))\n",
    "plt.show()"
   ]
  },
  {
   "cell_type": "markdown",
   "metadata": {},
   "source": [
    "- As the central limit theorem predicts, the histogram of the sampling distribution is well approximated by the normal distribution. The outline of the histogram closely follows the normal curve.\n",
    "- The mean of the sampling distribution, the blue dotted line, overlaps with the population mean, the green solid line. This shows that the two means are essentially equal to each other.\n",
    "- The sample mean of our first estimate of 50 districts, the red dashed line, is farther away from the center. This is due to sampling variability."
   ]
  },
  {
   "cell_type": "markdown",
   "metadata": {},
   "source": [
    "# Construct a 95% confidence interval"
   ]
  },
  {
   "cell_type": "code",
   "execution_count": 19,
   "metadata": {},
   "outputs": [],
   "source": [
    "sample_mean = sampled_data['OVERALL_LI'].mean()"
   ]
  },
  {
   "cell_type": "code",
   "execution_count": 20,
   "metadata": {},
   "outputs": [],
   "source": [
    "estimated_standard_error = sampled_data['OVERALL_LI'].std() / np.sqrt(sampled_data.shape[0])"
   ]
  },
  {
   "cell_type": "code",
   "execution_count": 22,
   "metadata": {},
   "outputs": [
    {
     "data": {
      "text/plain": [
       "(71.42241096968617, 77.02478903031381)"
      ]
     },
     "execution_count": 22,
     "metadata": {},
     "output_type": "execute_result"
    }
   ],
   "source": [
    "stats.norm.interval(confidence=0.95, loc=sample_mean, scale=estimated_standard_error)"
   ]
  },
  {
   "cell_type": "markdown",
   "metadata": {},
   "source": [
    "95% CI: (71.42, 77.02)"
   ]
  },
  {
   "cell_type": "markdown",
   "metadata": {},
   "source": [
    "# Construct a 99% confidence interval"
   ]
  },
  {
   "cell_type": "code",
   "execution_count": 23,
   "metadata": {},
   "outputs": [
    {
     "data": {
      "text/plain": [
       "(70.54221358373107, 77.90498641626891)"
      ]
     },
     "execution_count": 23,
     "metadata": {},
     "output_type": "execute_result"
    }
   ],
   "source": [
    "stats.norm.interval(confidence=0.99, loc=sample_mean, scale=estimated_standard_error)"
   ]
  },
  {
   "cell_type": "markdown",
   "metadata": {},
   "source": [
    "99% CI: (70.54, 77.90)"
   ]
  },
  {
   "cell_type": "markdown",
   "metadata": {},
   "source": [
    "- With a confidence level of 95%, the interval covers 5.6 percentage points (71.4% - 77.0%)\n",
    "- With a confidence level of 99%, the interval covers 7.4 percentage points (70.5% - 77.9%)"
   ]
  },
  {
   "cell_type": "code",
   "execution_count": 24,
   "metadata": {},
   "outputs": [],
   "source": [
    "state21 = education_districtwise[education_districtwise['STATNAME'] == \"STATE21\"]"
   ]
  },
  {
   "cell_type": "code",
   "execution_count": 25,
   "metadata": {},
   "outputs": [],
   "source": [
    "state28 = education_districtwise[education_districtwise['STATNAME'] == \"STATE28\"]"
   ]
  },
  {
   "cell_type": "code",
   "execution_count": 26,
   "metadata": {},
   "outputs": [],
   "source": [
    "sampled_state21 = state21.sample(n=20, replace = True, random_state=13490)"
   ]
  },
  {
   "cell_type": "code",
   "execution_count": 27,
   "metadata": {},
   "outputs": [],
   "source": [
    "sampled_state28 = state28.sample(n=20, replace = True, random_state=39103)"
   ]
  },
  {
   "cell_type": "code",
   "execution_count": 28,
   "metadata": {},
   "outputs": [
    {
     "data": {
      "text/plain": [
       "70.82900000000001"
      ]
     },
     "execution_count": 28,
     "metadata": {},
     "output_type": "execute_result"
    }
   ],
   "source": [
    "sampled_state21['OVERALL_LI'].mean()"
   ]
  },
  {
   "cell_type": "code",
   "execution_count": 29,
   "metadata": {},
   "outputs": [
    {
     "data": {
      "text/plain": [
       "64.60100000000001"
      ]
     },
     "execution_count": 29,
     "metadata": {},
     "output_type": "execute_result"
    }
   ],
   "source": [
    "sampled_state28['OVERALL_LI'].mean()"
   ]
  },
  {
   "cell_type": "markdown",
   "metadata": {},
   "source": [
    "The observed difference between the mean district literacy rates of STATE21 and STATE28 is 6.2 percentage points"
   ]
  },
  {
   "cell_type": "markdown",
   "metadata": {},
   "source": [
    "# Hypothesis"
   ]
  },
  {
   "cell_type": "markdown",
   "metadata": {},
   "source": [
    "𝐻0 : There is no difference in the mean district literacy rates between STATE21 and STATE28.\n",
    "\n",
    "𝐻𝐴 : There is a difference in the mean district literacy rates between STATE21 and STATE28."
   ]
  },
  {
   "cell_type": "code",
   "execution_count": 30,
   "metadata": {},
   "outputs": [
    {
     "data": {
      "text/plain": [
       "TtestResult(statistic=2.8980444277268735, pvalue=0.0064217191427652365, df=35.20796133045557)"
      ]
     },
     "execution_count": 30,
     "metadata": {},
     "output_type": "execute_result"
    }
   ],
   "source": [
    "stats.ttest_ind(a=sampled_state21['OVERALL_LI'], b=sampled_state28['OVERALL_LI'], equal_var=False)"
   ]
  },
  {
   "cell_type": "markdown",
   "metadata": {},
   "source": [
    "Our p-value of 0.0064, or 0.64%, is less than the significance level of 0.05, or 5%. Therefore, we will reject the null hypothesis and conclude that there is a statistically significant difference between the mean district literacy rates of the two states: STATE21 and STATE28.\n",
    "\n",
    "Since there is a statistically significant difference in mean district literacy rates, the state with the lower literacy rate, STATE28, will likely receive more resources to improve literacy."
   ]
  },
  {
   "cell_type": "code",
   "execution_count": null,
   "metadata": {},
   "outputs": [],
   "source": []
  }
 ],
 "metadata": {
  "kernelspec": {
   "display_name": "Python 3 (ipykernel)",
   "language": "python",
   "name": "python3"
  },
  "language_info": {
   "codemirror_mode": {
    "name": "ipython",
    "version": 3
   },
   "file_extension": ".py",
   "mimetype": "text/x-python",
   "name": "python",
   "nbconvert_exporter": "python",
   "pygments_lexer": "ipython3",
   "version": "3.11.7"
  }
 },
 "nbformat": 4,
 "nbformat_minor": 4
}
