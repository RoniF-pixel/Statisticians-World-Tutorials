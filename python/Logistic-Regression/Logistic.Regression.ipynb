{
 "cells": [
  {
   "cell_type": "code",
   "execution_count": 1,
   "id": "f556bd2d-6203-40be-b415-aba2ac1dea21",
   "metadata": {},
   "outputs": [],
   "source": [
    "from sklearn.datasets import load_breast_cancer\n",
    "cancer1 = load_breast_cancer()"
   ]
  },
  {
   "cell_type": "code",
   "execution_count": 2,
   "id": "f039581e-0793-4369-a7e9-0820bd9b5821",
   "metadata": {},
   "outputs": [
    {
     "name": "stdout",
     "output_type": "stream",
     "text": [
      "Predictors:  ['mean radius' 'mean texture' 'mean perimeter' 'mean area'\n",
      " 'mean smoothness' 'mean compactness' 'mean concavity'\n",
      " 'mean concave points' 'mean symmetry' 'mean fractal dimension'\n",
      " 'radius error' 'texture error' 'perimeter error' 'area error'\n",
      " 'smoothness error' 'compactness error' 'concavity error'\n",
      " 'concave points error' 'symmetry error' 'fractal dimension error'\n",
      " 'worst radius' 'worst texture' 'worst perimeter' 'worst area'\n",
      " 'worst smoothness' 'worst compactness' 'worst concavity'\n",
      " 'worst concave points' 'worst symmetry' 'worst fractal dimension']\n"
     ]
    }
   ],
   "source": [
    "print(\"Predictors: \", cancer1.feature_names)"
   ]
  },
  {
   "cell_type": "code",
   "execution_count": 3,
   "id": "d8992114-8cff-42b6-ba12-70092e2581bd",
   "metadata": {},
   "outputs": [
    {
     "name": "stdout",
     "output_type": "stream",
     "text": [
      "\n",
      "Response:  ['malignant' 'benign']\n"
     ]
    }
   ],
   "source": [
    "print(\"\\nResponse: \", cancer1.target_names)"
   ]
  },
  {
   "cell_type": "code",
   "execution_count": 4,
   "id": "890bd68c-a172-41f0-bf12-1106fa126b1c",
   "metadata": {},
   "outputs": [
    {
     "data": {
      "text/plain": [
       "(569, 30)"
      ]
     },
     "execution_count": 4,
     "metadata": {},
     "output_type": "execute_result"
    }
   ],
   "source": [
    "import pandas as pd\n",
    "\n",
    "cancer = pd.DataFrame(cancer1.data, columns=cancer1.feature_names)\n",
    "cancer.columns = cancer.columns.str.replace(' ','_')\n",
    "\n",
    "cancer.shape"
   ]
  },
  {
   "cell_type": "code",
   "execution_count": 5,
   "id": "bbf6ff60-dced-4d83-8d65-851b00d6c763",
   "metadata": {},
   "outputs": [],
   "source": [
    "# Add a column for the response variable: malignant or benign\n",
    "cancer['Target'] = cancer1.target"
   ]
  },
  {
   "cell_type": "code",
   "execution_count": 6,
   "id": "28a3b087-b38e-44a5-a366-7ffa2cef1cdc",
   "metadata": {},
   "outputs": [
    {
     "data": {
      "text/plain": [
       "(569, 31)"
      ]
     },
     "execution_count": 6,
     "metadata": {},
     "output_type": "execute_result"
    }
   ],
   "source": [
    "# Take a look at the DataFrame again to double check we added the column properly\n",
    "cancer.shape"
   ]
  },
  {
   "cell_type": "code",
   "execution_count": 7,
   "id": "ada1b965-96e9-4979-a60e-cca188426b70",
   "metadata": {},
   "outputs": [],
   "source": [
    "from sklearn.model_selection import train_test_split\n",
    "\n",
    "# Select the first 10 columns of our DataFrame that we will use as the predictors in our models\n",
    "x = cancer.iloc[:,:10]\n",
    "\n",
    "# Select the response column \n",
    "y = cancer.Target\n",
    "\n",
    "# Split these data into training and testing datasets\n",
    "x_train, x_test, y_train, y_test = train_test_split(x,y, random_state=123)"
   ]
  },
  {
   "cell_type": "code",
   "execution_count": 8,
   "id": "10a4283c-a8e7-4ee6-856a-470f209597e9",
   "metadata": {},
   "outputs": [
    {
     "name": "stdout",
     "output_type": "stream",
     "text": [
      "Formula:  Target ~ mean_radius + mean_texture + mean_perimeter + mean_area + mean_smoothness + mean_compactness + mean_concavity + mean_concave_points + mean_symmetry + mean_fractal_dimension \n",
      "\n"
     ]
    }
   ],
   "source": [
    "import statsmodels.formula.api as smf\n",
    "import pandas as pd\n",
    "\n",
    "# Create the formula string \n",
    "all_columns = ' + '.join(cancer.columns[:10])\n",
    "formula = \"Target ~ \" + all_columns \n",
    "print(\"Formula: \", formula, \"\\n\")"
   ]
  },
  {
   "cell_type": "code",
   "execution_count": 9,
   "id": "24056111-2a33-4f9f-a09f-4307d8afffb2",
   "metadata": {},
   "outputs": [
    {
     "name": "stdout",
     "output_type": "stream",
     "text": [
      "Optimization terminated successfully.\n",
      "         Current function value: 0.131593\n",
      "         Iterations 11\n"
     ]
    }
   ],
   "source": [
    "# Put the training predictors and responses into one DataFrame to be input into the model\n",
    "trainingdata = pd.concat([x_train,y_train], axis = 1)\n",
    "\n",
    "# Build the model\n",
    "log_reg_1 = smf.logit(formula, data=trainingdata).fit()"
   ]
  },
  {
   "cell_type": "code",
   "execution_count": 10,
   "id": "d172af6e-0077-40ea-bf94-78d12a6f81a0",
   "metadata": {},
   "outputs": [
    {
     "data": {
      "text/html": [
       "<table class=\"simpletable\">\n",
       "<caption>Logit Regression Results</caption>\n",
       "<tr>\n",
       "  <th>Dep. Variable:</th>        <td>Target</td>      <th>  No. Observations:  </th>  <td>   426</td>  \n",
       "</tr>\n",
       "<tr>\n",
       "  <th>Model:</th>                 <td>Logit</td>      <th>  Df Residuals:      </th>  <td>   415</td>  \n",
       "</tr>\n",
       "<tr>\n",
       "  <th>Method:</th>                 <td>MLE</td>       <th>  Df Model:          </th>  <td>    10</td>  \n",
       "</tr>\n",
       "<tr>\n",
       "  <th>Date:</th>            <td>Fri, 26 Jul 2024</td> <th>  Pseudo R-squ.:     </th>  <td>0.8004</td>  \n",
       "</tr>\n",
       "<tr>\n",
       "  <th>Time:</th>                <td>10:09:14</td>     <th>  Log-Likelihood:    </th> <td> -56.059</td> \n",
       "</tr>\n",
       "<tr>\n",
       "  <th>converged:</th>             <td>True</td>       <th>  LL-Null:           </th> <td> -280.92</td> \n",
       "</tr>\n",
       "<tr>\n",
       "  <th>Covariance Type:</th>     <td>nonrobust</td>    <th>  LLR p-value:       </th> <td>2.402e-90</td>\n",
       "</tr>\n",
       "</table>\n",
       "<table class=\"simpletable\">\n",
       "<tr>\n",
       "             <td></td>               <th>coef</th>     <th>std err</th>      <th>z</th>      <th>P>|z|</th>  <th>[0.025</th>    <th>0.975]</th>  \n",
       "</tr>\n",
       "<tr>\n",
       "  <th>Intercept</th>              <td>   17.1132</td> <td>   15.041</td> <td>    1.138</td> <td> 0.255</td> <td>  -12.368</td> <td>   46.594</td>\n",
       "</tr>\n",
       "<tr>\n",
       "  <th>mean_radius</th>            <td>   -0.1786</td> <td>    4.151</td> <td>   -0.043</td> <td> 0.966</td> <td>   -8.315</td> <td>    7.958</td>\n",
       "</tr>\n",
       "<tr>\n",
       "  <th>mean_texture</th>           <td>   -0.4333</td> <td>    0.079</td> <td>   -5.479</td> <td> 0.000</td> <td>   -0.588</td> <td>   -0.278</td>\n",
       "</tr>\n",
       "<tr>\n",
       "  <th>mean_perimeter</th>         <td>    0.2724</td> <td>    0.569</td> <td>    0.479</td> <td> 0.632</td> <td>   -0.842</td> <td>    1.387</td>\n",
       "</tr>\n",
       "<tr>\n",
       "  <th>mean_area</th>              <td>   -0.0301</td> <td>    0.019</td> <td>   -1.617</td> <td> 0.106</td> <td>   -0.067</td> <td>    0.006</td>\n",
       "</tr>\n",
       "<tr>\n",
       "  <th>mean_smoothness</th>        <td>  -90.0668</td> <td>   38.119</td> <td>   -2.363</td> <td> 0.018</td> <td> -164.778</td> <td>  -15.356</td>\n",
       "</tr>\n",
       "<tr>\n",
       "  <th>mean_compactness</th>       <td>   -9.5962</td> <td>   23.305</td> <td>   -0.412</td> <td> 0.681</td> <td>  -55.273</td> <td>   36.080</td>\n",
       "</tr>\n",
       "<tr>\n",
       "  <th>mean_concavity</th>         <td>  -11.5117</td> <td>    9.451</td> <td>   -1.218</td> <td> 0.223</td> <td>  -30.035</td> <td>    7.011</td>\n",
       "</tr>\n",
       "<tr>\n",
       "  <th>mean_concave_points</th>    <td>  -47.8953</td> <td>   32.398</td> <td>   -1.478</td> <td> 0.139</td> <td> -111.394</td> <td>   15.603</td>\n",
       "</tr>\n",
       "<tr>\n",
       "  <th>mean_symmetry</th>          <td>  -23.1823</td> <td>   12.730</td> <td>   -1.821</td> <td> 0.069</td> <td>  -48.133</td> <td>    1.768</td>\n",
       "</tr>\n",
       "<tr>\n",
       "  <th>mean_fractal_dimension</th> <td>   91.5592</td> <td>   98.116</td> <td>    0.933</td> <td> 0.351</td> <td> -100.745</td> <td>  283.863</td>\n",
       "</tr>\n",
       "</table><br/><br/>Possibly complete quasi-separation: A fraction 0.20 of observations can be<br/>perfectly predicted. This might indicate that there is complete<br/>quasi-separation. In this case some parameters will not be identified."
      ],
      "text/latex": [
       "\\begin{center}\n",
       "\\begin{tabular}{lclc}\n",
       "\\toprule\n",
       "\\textbf{Dep. Variable:}           &      Target      & \\textbf{  No. Observations:  } &      426    \\\\\n",
       "\\textbf{Model:}                   &      Logit       & \\textbf{  Df Residuals:      } &      415    \\\\\n",
       "\\textbf{Method:}                  &       MLE        & \\textbf{  Df Model:          } &       10    \\\\\n",
       "\\textbf{Date:}                    & Fri, 26 Jul 2024 & \\textbf{  Pseudo R-squ.:     } &   0.8004    \\\\\n",
       "\\textbf{Time:}                    &     10:09:14     & \\textbf{  Log-Likelihood:    } &   -56.059   \\\\\n",
       "\\textbf{converged:}               &       True       & \\textbf{  LL-Null:           } &   -280.92   \\\\\n",
       "\\textbf{Covariance Type:}         &    nonrobust     & \\textbf{  LLR p-value:       } & 2.402e-90   \\\\\n",
       "\\bottomrule\n",
       "\\end{tabular}\n",
       "\\begin{tabular}{lcccccc}\n",
       "                                  & \\textbf{coef} & \\textbf{std err} & \\textbf{z} & \\textbf{P$> |$z$|$} & \\textbf{[0.025} & \\textbf{0.975]}  \\\\\n",
       "\\midrule\n",
       "\\textbf{Intercept}                &      17.1132  &       15.041     &     1.138  &         0.255        &      -12.368    &       46.594     \\\\\n",
       "\\textbf{mean\\_radius}             &      -0.1786  &        4.151     &    -0.043  &         0.966        &       -8.315    &        7.958     \\\\\n",
       "\\textbf{mean\\_texture}            &      -0.4333  &        0.079     &    -5.479  &         0.000        &       -0.588    &       -0.278     \\\\\n",
       "\\textbf{mean\\_perimeter}          &       0.2724  &        0.569     &     0.479  &         0.632        &       -0.842    &        1.387     \\\\\n",
       "\\textbf{mean\\_area}               &      -0.0301  &        0.019     &    -1.617  &         0.106        &       -0.067    &        0.006     \\\\\n",
       "\\textbf{mean\\_smoothness}         &     -90.0668  &       38.119     &    -2.363  &         0.018        &     -164.778    &      -15.356     \\\\\n",
       "\\textbf{mean\\_compactness}        &      -9.5962  &       23.305     &    -0.412  &         0.681        &      -55.273    &       36.080     \\\\\n",
       "\\textbf{mean\\_concavity}          &     -11.5117  &        9.451     &    -1.218  &         0.223        &      -30.035    &        7.011     \\\\\n",
       "\\textbf{mean\\_concave\\_points}    &     -47.8953  &       32.398     &    -1.478  &         0.139        &     -111.394    &       15.603     \\\\\n",
       "\\textbf{mean\\_symmetry}           &     -23.1823  &       12.730     &    -1.821  &         0.069        &      -48.133    &        1.768     \\\\\n",
       "\\textbf{mean\\_fractal\\_dimension} &      91.5592  &       98.116     &     0.933  &         0.351        &     -100.745    &      283.863     \\\\\n",
       "\\bottomrule\n",
       "\\end{tabular}\n",
       "%\\caption{Logit Regression Results}\n",
       "\\end{center}\n",
       "\n",
       "Possibly complete quasi-separation: A fraction 0.20 of observations can be \\newline\n",
       " perfectly predicted. This might indicate that there is complete \\newline\n",
       " quasi-separation. In this case some parameters will not be identified."
      ],
      "text/plain": [
       "<class 'statsmodels.iolib.summary.Summary'>\n",
       "\"\"\"\n",
       "                           Logit Regression Results                           \n",
       "==============================================================================\n",
       "Dep. Variable:                 Target   No. Observations:                  426\n",
       "Model:                          Logit   Df Residuals:                      415\n",
       "Method:                           MLE   Df Model:                           10\n",
       "Date:                Fri, 26 Jul 2024   Pseudo R-squ.:                  0.8004\n",
       "Time:                        10:09:14   Log-Likelihood:                -56.059\n",
       "converged:                       True   LL-Null:                       -280.92\n",
       "Covariance Type:            nonrobust   LLR p-value:                 2.402e-90\n",
       "==========================================================================================\n",
       "                             coef    std err          z      P>|z|      [0.025      0.975]\n",
       "------------------------------------------------------------------------------------------\n",
       "Intercept                 17.1132     15.041      1.138      0.255     -12.368      46.594\n",
       "mean_radius               -0.1786      4.151     -0.043      0.966      -8.315       7.958\n",
       "mean_texture              -0.4333      0.079     -5.479      0.000      -0.588      -0.278\n",
       "mean_perimeter             0.2724      0.569      0.479      0.632      -0.842       1.387\n",
       "mean_area                 -0.0301      0.019     -1.617      0.106      -0.067       0.006\n",
       "mean_smoothness          -90.0668     38.119     -2.363      0.018    -164.778     -15.356\n",
       "mean_compactness          -9.5962     23.305     -0.412      0.681     -55.273      36.080\n",
       "mean_concavity           -11.5117      9.451     -1.218      0.223     -30.035       7.011\n",
       "mean_concave_points      -47.8953     32.398     -1.478      0.139    -111.394      15.603\n",
       "mean_symmetry            -23.1823     12.730     -1.821      0.069     -48.133       1.768\n",
       "mean_fractal_dimension    91.5592     98.116      0.933      0.351    -100.745     283.863\n",
       "==========================================================================================\n",
       "\n",
       "Possibly complete quasi-separation: A fraction 0.20 of observations can be\n",
       "perfectly predicted. This might indicate that there is complete\n",
       "quasi-separation. In this case some parameters will not be identified.\n",
       "\"\"\""
      ]
     },
     "execution_count": 10,
     "metadata": {},
     "output_type": "execute_result"
    }
   ],
   "source": [
    "log_reg_1.summary()"
   ]
  },
  {
   "cell_type": "code",
   "execution_count": 11,
   "id": "9ff8c1b0-88c4-4002-9380-e55923bfb5ae",
   "metadata": {},
   "outputs": [
    {
     "name": "stdout",
     "output_type": "stream",
     "text": [
      "\n",
      "Test accuracy =  0.958041958041958\n"
     ]
    }
   ],
   "source": [
    "from sklearn.metrics import confusion_matrix, accuracy_score, ConfusionMatrixDisplay\n",
    "\n",
    "# Predict responses \n",
    "pred_1 = log_reg_1.predict(x_test)\n",
    "# round() rounds to nearest integer;\n",
    "# 0.5 rounds to 0; 0.501 rounds to 1\n",
    "prediction_1 = list(map(round, pred_1))\n",
    "\n",
    "# Accuracy score\n",
    "print('\\nTest accuracy = ', accuracy_score(y_test, prediction_1))"
   ]
  },
  {
   "cell_type": "code",
   "execution_count": 12,
   "id": "a10bd360-aac7-4d3c-b1ca-c683c5eb2c6f",
   "metadata": {},
   "outputs": [
    {
     "name": "stdout",
     "output_type": "stream",
     "text": [
      "\n",
      "Confusion Matrix : \n",
      " [[49  5]\n",
      " [ 1 88]]\n"
     ]
    }
   ],
   "source": [
    "# Confusion matrix\n",
    "cm = confusion_matrix(y_test, prediction_1) \n",
    "print (\"\\nConfusion Matrix : \\n\", cm) "
   ]
  },
  {
   "cell_type": "code",
   "execution_count": 13,
   "id": "fabf1b24-b608-415a-9745-c0f7ac90b1cf",
   "metadata": {},
   "outputs": [],
   "source": [
    "import matplotlib.pyplot as plt"
   ]
  },
  {
   "cell_type": "code",
   "execution_count": 14,
   "id": "72271d40-c55e-4b35-b3ad-0a4234ffb77a",
   "metadata": {},
   "outputs": [
    {
     "data": {
      "image/png": "[encoded data removed]",
      "text/plain": [
       "<Figure size 640x480 with 2 Axes>"
      ]
     },
     "metadata": {},
     "output_type": "display_data"
    }
   ],
   "source": [
    "disp = ConfusionMatrixDisplay(confusion_matrix=cm)\n",
    "disp.plot()\n",
    "plt.show()"
   ]
  },
  {
   "cell_type": "code",
   "execution_count": null,
   "id": "ee9cad42-fadc-4873-83a1-b78028b501a2",
   "metadata": {},
   "outputs": [],
   "source": []
  }
 ],
 "metadata": {
  "kernelspec": {
   "display_name": "Python 3 (ipykernel)",
   "language": "python",
   "name": "python3"
  },
  "language_info": {
   "codemirror_mode": {
    "name": "ipython",
    "version": 3
   },
   "file_extension": ".py",
   "mimetype": "text/x-python",
   "name": "python",
   "nbconvert_exporter": "python",
   "pygments_lexer": "ipython3",
   "version": "3.11.7"
  }
 },
 "nbformat": 4,
 "nbformat_minor": 5
}
